{
 "cells": [
  {
   "cell_type": "code",
   "execution_count": 1,
   "metadata": {},
   "outputs": [],
   "source": [
    "import numpy as np\n",
    "import glob\n",
    "import pandas as pd\n",
    "import re"
   ]
  },
  {
   "cell_type": "code",
   "execution_count": 2,
   "metadata": {},
   "outputs": [],
   "source": [
    "# get data file names\n",
    "path ='./all_predictions'\n",
    "filenames = glob.glob(path + \"/*.csv\")\n",
    "\n",
    "dfs = []\n",
    "for filename in filenames:\n",
    "    dfs.append(pd.read_csv(filename))\n",
    "\n",
    "# Concatenate all data into one DataFrame\n",
    "big_frame = pd.concat(dfs, ignore_index=True)"
   ]
  },
  {
   "cell_type": "code",
   "execution_count": 3,
   "metadata": {},
   "outputs": [],
   "source": [
    "df = big_frame.drop('count', axis=1)"
   ]
  },
  {
   "cell_type": "code",
   "execution_count": 4,
   "metadata": {},
   "outputs": [
    {
     "data": {
      "text/html": [
       "<div>\n",
       "<style scoped>\n",
       "    .dataframe tbody tr th:only-of-type {\n",
       "        vertical-align: middle;\n",
       "    }\n",
       "\n",
       "    .dataframe tbody tr th {\n",
       "        vertical-align: top;\n",
       "    }\n",
       "\n",
       "    .dataframe thead th {\n",
       "        text-align: right;\n",
       "    }\n",
       "</style>\n",
       "<table border=\"1\" class=\"dataframe\">\n",
       "  <thead>\n",
       "    <tr style=\"text-align: right;\">\n",
       "      <th></th>\n",
       "      <th>user_id</th>\n",
       "      <th>product_id</th>\n",
       "      <th>prediction</th>\n",
       "    </tr>\n",
       "  </thead>\n",
       "  <tbody>\n",
       "    <tr>\n",
       "      <th>0</th>\n",
       "      <td>106797</td>\n",
       "      <td>259</td>\n",
       "      <td>0.892925</td>\n",
       "    </tr>\n",
       "    <tr>\n",
       "      <th>1</th>\n",
       "      <td>117896</td>\n",
       "      <td>259</td>\n",
       "      <td>0.745863</td>\n",
       "    </tr>\n",
       "    <tr>\n",
       "      <th>2</th>\n",
       "      <td>6364</td>\n",
       "      <td>259</td>\n",
       "      <td>1.108087</td>\n",
       "    </tr>\n",
       "    <tr>\n",
       "      <th>3</th>\n",
       "      <td>37818</td>\n",
       "      <td>512</td>\n",
       "      <td>3.140496</td>\n",
       "    </tr>\n",
       "    <tr>\n",
       "      <th>4</th>\n",
       "      <td>114859</td>\n",
       "      <td>512</td>\n",
       "      <td>2.298851</td>\n",
       "    </tr>\n",
       "    <tr>\n",
       "      <th>...</th>\n",
       "      <td>...</td>\n",
       "      <td>...</td>\n",
       "      <td>...</td>\n",
       "    </tr>\n",
       "    <tr>\n",
       "      <th>13307654</th>\n",
       "      <td>145351</td>\n",
       "      <td>49199</td>\n",
       "      <td>0.667402</td>\n",
       "    </tr>\n",
       "    <tr>\n",
       "      <th>13307655</th>\n",
       "      <td>162217</td>\n",
       "      <td>49199</td>\n",
       "      <td>0.513662</td>\n",
       "    </tr>\n",
       "    <tr>\n",
       "      <th>13307656</th>\n",
       "      <td>14528</td>\n",
       "      <td>49199</td>\n",
       "      <td>1.139730</td>\n",
       "    </tr>\n",
       "    <tr>\n",
       "      <th>13307657</th>\n",
       "      <td>155174</td>\n",
       "      <td>49199</td>\n",
       "      <td>0.664871</td>\n",
       "    </tr>\n",
       "    <tr>\n",
       "      <th>13307658</th>\n",
       "      <td>25158</td>\n",
       "      <td>49199</td>\n",
       "      <td>0.757786</td>\n",
       "    </tr>\n",
       "  </tbody>\n",
       "</table>\n",
       "<p>13307659 rows × 3 columns</p>\n",
       "</div>"
      ],
      "text/plain": [
       "          user_id  product_id  prediction\n",
       "0          106797         259    0.892925\n",
       "1          117896         259    0.745863\n",
       "2            6364         259    1.108087\n",
       "3           37818         512    3.140496\n",
       "4          114859         512    2.298851\n",
       "...           ...         ...         ...\n",
       "13307654   145351       49199    0.667402\n",
       "13307655   162217       49199    0.513662\n",
       "13307656    14528       49199    1.139730\n",
       "13307657   155174       49199    0.664871\n",
       "13307658    25158       49199    0.757786\n",
       "\n",
       "[13307659 rows x 3 columns]"
      ]
     },
     "execution_count": 4,
     "metadata": {},
     "output_type": "execute_result"
    }
   ],
   "source": [
    "df.to_csv('alsResult_allPrediction.csv', index=False) \n",
    "df"
   ]
  },
  {
   "cell_type": "code",
   "execution_count": null,
   "metadata": {},
   "outputs": [],
   "source": []
  }
 ],
 "metadata": {
  "kernelspec": {
   "display_name": "Python 3",
   "language": "python",
   "name": "python3"
  },
  "language_info": {
   "codemirror_mode": {
    "name": "ipython",
    "version": 3
   },
   "file_extension": ".py",
   "mimetype": "text/x-python",
   "name": "python",
   "nbconvert_exporter": "python",
   "pygments_lexer": "ipython3",
   "version": "3.7.7"
  }
 },
 "nbformat": 4,
 "nbformat_minor": 4
}
