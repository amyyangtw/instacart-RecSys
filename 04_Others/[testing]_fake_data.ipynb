{
 "cells": [
  {
   "cell_type": "code",
   "execution_count": null,
   "metadata": {},
   "outputs": [],
   "source": [
    "import numpy as np\n",
    "import pandas as pd\n",
    "userIds = np.arange(1,206210)\n",
    "productIds = np.arange(1, 49689)\n",
    "ranking = ['rank_'+ str(i) for i in range(1,11)]\n",
    "df = pd.DataFrame(np.random.randint(low=1, high=49689, size=(206209, 10), dtype=np.int), index = userIds, columns = ranking)\n",
    "df.to_csv('fakeData_userRecs10.csv', index_label='user_id') \n",
    "\n",
    "df2 = pd.DataFrame(np.random.randint(low=1, high=49689, size=(49688, 10), dtype=np.int), index = productIds, columns = ranking)\n",
    "df2.to_csv('fakeData_itemRecs10.csv', index_label='product_id') "
   ]
  }
 ],
 "metadata": {
  "kernelspec": {
   "display_name": "Python 3",
   "language": "python",
   "name": "python3"
  },
  "language_info": {
   "codemirror_mode": {
    "name": "ipython",
    "version": 3
   },
   "file_extension": ".py",
   "mimetype": "text/x-python",
   "name": "python",
   "nbconvert_exporter": "python",
   "pygments_lexer": "ipython3",
   "version": "3.7.7"
  }
 },
 "nbformat": 4,
 "nbformat_minor": 4
}
